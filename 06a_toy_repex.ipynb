{
 "cells": [
  {
   "cell_type": "markdown",
   "metadata": {},
   "source": [
    "# Toy Replica Exchange\n",
    "\n",
    "This gives a very simple overview of a replica exchange code using `dask`. This is much simpler than a real replica exchange code, but is enough to capture the overall parallelization challenge, which is that swaps can lead to complicated dependency graphs.\n",
    "\n",
    "Overall, we'll think of several \"ensembles\" that we are sampling simultaneously. We'll also refer to these as \"slots,\" and they are represented by characters (`'A'`, `'B'`, etc.) The value associated with each slot will be an integer. The goal of this code is to swap which integer is associated with which \"ensemble\" letter.\n",
    "\n",
    "In real replica exchange methods, the ensembles are typically temperatures (for REMD) or path ensembles (for RETIS). The values are either points in phase space (for REMD) or trajectories (for RETIS)."
   ]
  },
  {
   "cell_type": "code",
   "execution_count": null,
   "metadata": {},
   "outputs": [],
   "source": [
    "import itertools\n",
    "import random\n",
    "import time\n",
    "import dask"
   ]
  },
  {
   "cell_type": "code",
   "execution_count": null,
   "metadata": {},
   "outputs": [],
   "source": [
    "class Swapper(object):\n",
    "    \"\"\"Perform swap between specific ensembles.\n",
    "    \n",
    "    Parameters\n",
    "    ----------\n",
    "    elem_1 : character\n",
    "        first ensemble of swap pair\n",
    "    elem_2 : character\n",
    "        second ensemble of swap pair\n",
    "    \"\"\"\n",
    "    def __init__(self, elem_1, elem_2):\n",
    "        self.elem_1 = elem_1\n",
    "        self.elem_2 = elem_2\n",
    "    \n",
    "    @property\n",
    "    def pair(self):\n",
    "        \"\"\"convenience to return tuple of swap pair\"\"\"\n",
    "        return (self.elem_1, self.elem_2)\n",
    "    \n",
    "    def subdict(self, slots):\n",
    "        \"\"\"Mapping of ensemble to value for ensembles in this move\"\"\"\n",
    "        return {slot: slots[slot] for slot in self.pair}\n",
    "        \n",
    "    def __call__(self, subdict):\n",
    "        \"\"\"Perform the swap\"\"\"\n",
    "        time.sleep(1)\n",
    "        return {self.elem_1: subdict[self.elem_2], self.elem_2: subdict[self.elem_1]}\n",
    "        \n",
    "    def __repr__(self):\n",
    "        return \"{}('{}', '{}')\".format(self.__class__.__name__, self.elem_1, self.elem_2)"
   ]
  },
  {
   "cell_type": "code",
   "execution_count": null,
   "metadata": {},
   "outputs": [],
   "source": [
    "# every character in ensemble_string represents an ensemble\n",
    "# swappers are created for all pairs\n",
    "ensemble_string = \"ABCDEF\"\n",
    "swappers = [Swapper(*pair) for pair in itertools.combinations(ensemble_string, 2)]"
   ]
  },
  {
   "cell_type": "code",
   "execution_count": null,
   "metadata": {},
   "outputs": [],
   "source": [
    "# preselect 20 random swap moves\n",
    "swaps = [random.choice(swappers) for i in range(20)]"
   ]
  },
  {
   "cell_type": "markdown",
   "metadata": {},
   "source": [
    "### Run without dask"
   ]
  },
  {
   "cell_type": "code",
   "execution_count": null,
   "metadata": {},
   "outputs": [],
   "source": [
    "# initial conditions give the index in the string as the value of that character\n",
    "slots = {letter: idx for idx, letter in enumerate(ensemble_string)}\n",
    "slots"
   ]
  },
  {
   "cell_type": "code",
   "execution_count": null,
   "metadata": {},
   "outputs": [],
   "source": [
    "%%time\n",
    "for swap in swaps:\n",
    "    subdict = swap.subdict(slots)\n",
    "    pairs = swap.pair\n",
    "    swapped_sub = swap(subdict)\n",
    "    for slot in pairs:\n",
    "        slots[slot] = swapped_sub[slot]"
   ]
  },
  {
   "cell_type": "code",
   "execution_count": null,
   "metadata": {},
   "outputs": [],
   "source": [
    "slots"
   ]
  },
  {
   "cell_type": "markdown",
   "metadata": {},
   "source": [
    "### Run with dask"
   ]
  },
  {
   "cell_type": "code",
   "execution_count": null,
   "metadata": {},
   "outputs": [],
   "source": [
    "# reset initial conditions\n",
    "slots = {letter: idx for idx, letter in enumerate(ensemble_string)}"
   ]
  },
  {
   "cell_type": "markdown",
   "metadata": {},
   "source": [
    "Next you'll modify the code to be task-based, using `dask.delayed`. The cell below starts as exactly the same as the example without dask. \n",
    "\n",
    "Hints:\n",
    "\n",
    "1. Does your delayed task return a single object or a tuple? If it returns a tuple of length `N`, use `nout=N`.\n",
    "2. Is there randomness in your task? If so, use `pure=False`."
   ]
  },
  {
   "cell_type": "code",
   "execution_count": null,
   "metadata": {},
   "outputs": [],
   "source": [
    "# YOUR TURN: modify this code to work with dask.delayed\n",
    "\n",
    "for swap in swaps:\n",
    "    subdict = swap.subdict(slots)\n",
    "    pairs = swap.pair\n",
    "    swapped_sub = swap(subdict)\n",
    "    for slot in pairs:\n",
    "        slots[slot] = swapped_sub[slot]"
   ]
  },
  {
   "cell_type": "code",
   "execution_count": null,
   "metadata": {},
   "outputs": [],
   "source": [
    "slots"
   ]
  },
  {
   "cell_type": "code",
   "execution_count": null,
   "metadata": {},
   "outputs": [],
   "source": [
    "dask.visualize(*slots.values(), rankdir='TB')"
   ]
  },
  {
   "cell_type": "code",
   "execution_count": null,
   "metadata": {},
   "outputs": [],
   "source": [
    "# using the distributed scheduler is optional, but its dashboard is nice to watch!\n",
    "from dask.distributed import Client, LocalCluster"
   ]
  },
  {
   "cell_type": "code",
   "execution_count": null,
   "metadata": {},
   "outputs": [],
   "source": [
    "# trick specific in JURECA\n",
    "host = !hostname\n",
    "ip = host[0]+'i'\n",
    "print(ip)"
   ]
  },
  {
   "cell_type": "code",
   "execution_count": null,
   "metadata": {},
   "outputs": [],
   "source": [
    "cluster = LocalCluster(ip=ip)\n",
    "client = Client(cluster)\n",
    "client"
   ]
  },
  {
   "cell_type": "code",
   "execution_count": null,
   "metadata": {},
   "outputs": [],
   "source": [
    "%%time\n",
    "dask.compute(slots)[0]"
   ]
  },
  {
   "cell_type": "markdown",
   "metadata": {},
   "source": [
    "Because we used the exact same steps, these should give us the same results as the version without dask."
   ]
  },
  {
   "cell_type": "code",
   "execution_count": null,
   "metadata": {},
   "outputs": [],
   "source": []
  }
 ],
 "metadata": {
  "kernelspec": {
   "display_name": "dask-tutorial",
   "language": "python",
   "name": "dask-tutorial"
  },
  "language_info": {
   "codemirror_mode": {
    "name": "ipython",
    "version": 3
   },
   "file_extension": ".py",
   "mimetype": "text/x-python",
   "name": "python",
   "nbconvert_exporter": "python",
   "pygments_lexer": "ipython3",
   "version": "3.6.5"
  }
 },
 "nbformat": 4,
 "nbformat_minor": 2
}
